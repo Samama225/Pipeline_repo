{
 "cells": [
  {
   "cell_type": "markdown",
   "id": "ff0c26aa-ba08-40ca-b3e9-a15165965532",
   "metadata": {},
   "source": [
    "<H3>Libraries For SQL MAGIC COMMANDS.</H3>"
   ]
  },
  {
   "cell_type": "markdown",
   "id": "1817bb9e-e111-412e-89f7-4f9739405c50",
   "metadata": {},
   "source": [
    "ipython-sql\n",
    "!pip insatll --user ipython sql."
   ]
  },
  {
   "cell_type": "markdown",
   "id": "c7dc01cf-2377-4846-b733-1588dd04028d",
   "metadata": {},
   "source": [
    "<H1>For Using in Jupyter Notebook</H3>"
   ]
  },
  {
   "cell_type": "markdown",
   "id": "600a3aab-be64-4d0b-8601-b749a15a7a18",
   "metadata": {},
   "source": [
    "%load_ext sql                      \n",
    "%sql sqlite:///HR>db"
   ]
  },
  {
   "cell_type": "code",
   "execution_count": null,
   "id": "2895732b-244e-43b1-8af4-e463569489ba",
   "metadata": {},
   "outputs": [],
   "source": []
  }
 ],
 "metadata": {
  "kernelspec": {
   "display_name": "Python [conda env:base] *",
   "language": "python",
   "name": "conda-base-py"
  },
  "language_info": {
   "codemirror_mode": {
    "name": "ipython",
    "version": 3
   },
   "file_extension": ".py",
   "mimetype": "text/x-python",
   "name": "python",
   "nbconvert_exporter": "python",
   "pygments_lexer": "ipython3",
   "version": "3.13.5"
  }
 },
 "nbformat": 4,
 "nbformat_minor": 5
}
