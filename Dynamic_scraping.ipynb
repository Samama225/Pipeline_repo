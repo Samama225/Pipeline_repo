{
 "cells": [
  {
   "cell_type": "code",
   "execution_count": 34,
   "id": "a6b6d141-ab79-49b5-a417-6fe4f27fb0b1",
   "metadata": {},
   "outputs": [],
   "source": [
    "from selenium import webdriver\n",
    "from selenium.webdriver.chrome.service import Service\n",
    "from selenium.webdriver.chrome.options import Options\n",
    "from selenium.webdriver.common.by import By\n",
    "from selenium.webdriver.support.ui import WebDriverWait\n",
    "from selenium.webdriver.support import expected_conditions as EC\n",
    "from webdriver_manager.chrome import ChromeDriverManager\n",
    "from bs4 import BeautifulSoup"
   ]
  },
  {
   "cell_type": "code",
   "execution_count": 35,
   "id": "def57143-0e42-42b5-853c-7ba283e0fc0e",
   "metadata": {},
   "outputs": [],
   "source": [
    "chrome_options = Options()\n",
    "chrome_options.add_argument(\"--headless\")  \n",
    "chrome_options.add_argument(\"--disable-gpu\")\n",
    "chrome_options.add_argument(\n",
    "    \"user-agent=Mozilla/5.0 (Windows NT 10.0; Win64; x64) AppleWebKit/537.36 (KHTML, like Gecko) Chrome/131.0.6778.265 Safari/537.36\"\n",
    ")"
   ]
  },
  {
   "cell_type": "code",
   "execution_count": 36,
   "id": "84a553f2-22ae-4147-a1a4-c635b92cdb6b",
   "metadata": {},
   "outputs": [],
   "source": [
    "service = Service(ChromeDriverManager().install())\n",
    "driver = webdriver.Chrome(service=service, options=chrome_options)"
   ]
  },
  {
   "cell_type": "code",
   "execution_count": 37,
   "id": "750574db-6d41-4381-8420-bf5b971388d8",
   "metadata": {},
   "outputs": [],
   "source": [
    "url = \"https://www.naukrigulf.com/top-jobs-by-designation\"\n",
    "driver.get(url)"
   ]
  },
  {
   "cell_type": "code",
   "execution_count": 38,
   "id": "1f190f8c-7b49-4665-8d01-4392a4162ab1",
   "metadata": {},
   "outputs": [
    {
     "data": {
      "text/plain": [
       "<selenium.webdriver.remote.webelement.WebElement (session=\"698253a5b4cff50f94fb06536ecca0b3\", element=\"f.7B4169CDC05D61B9D13AC5F468A2DF41.d.FA55BEC5DD6A4183253F0BC531A8FCCD.e.26\")>"
      ]
     },
     "execution_count": 38,
     "metadata": {},
     "output_type": "execute_result"
    }
   ],
   "source": [
    "WebDriverWait(driver, 60).until(\n",
    "        EC.presence_of_element_located((By.CLASS_NAME, \"soft-link\"))\n",
    "    )"
   ]
  },
  {
   "cell_type": "code",
   "execution_count": 39,
   "id": "77e40ae7-f4ee-4ebd-858e-cf7588267777",
   "metadata": {},
   "outputs": [],
   "source": [
    "html = driver.page_source\n",
    "soup = BeautifulSoup(html, \"html.parser\")"
   ]
  },
  {
   "cell_type": "code",
   "execution_count": 40,
   "id": "a3f8f68f-6564-438c-aea4-7d061266da53",
   "metadata": {},
   "outputs": [
    {
     "name": "stdout",
     "output_type": "stream",
     "text": [
      "Top Job Profiles:\n",
      "1. UAE\n",
      "2. Dubai\n",
      "3. Abu Dhabi\n",
      "4. Qatar\n",
      "5. Oman\n",
      "6. Kuwait\n",
      "7. Saudi Arabia\n",
      "8. Doha\n",
      "9. Sharjah\n",
      "10. Bahrain\n"
     ]
    }
   ],
   "source": [
    "job_profiles_section = soup.find_all('a', class_='soft-link darker')\n",
    "\n",
    "print(\"Top Job Profiles:\")\n",
    "for i, job in enumerate(job_profiles_section[:10], start=1):\n",
    "    print(f\"{i}. {job.text.strip()}\")"
   ]
  },
  {
   "cell_type": "code",
   "execution_count": 41,
   "id": "5be0f785-f733-4b38-8c54-e907ab335395",
   "metadata": {},
   "outputs": [],
   "source": [
    "driver.quit()"
   ]
  },
  {
   "cell_type": "code",
   "execution_count": null,
   "id": "a131e514-4704-4e76-a0a6-1ffeaf7d452e",
   "metadata": {},
   "outputs": [],
   "source": []
  }
 ],
 "metadata": {
  "kernelspec": {
   "display_name": "Python [conda env:base] *",
   "language": "python",
   "name": "conda-base-py"
  },
  "language_info": {
   "codemirror_mode": {
    "name": "ipython",
    "version": 3
   },
   "file_extension": ".py",
   "mimetype": "text/x-python",
   "name": "python",
   "nbconvert_exporter": "python",
   "pygments_lexer": "ipython3",
   "version": "3.13.5"
  }
 },
 "nbformat": 4,
 "nbformat_minor": 5
}
