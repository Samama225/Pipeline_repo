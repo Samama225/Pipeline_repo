{
 "cells": [
  {
   "cell_type": "code",
   "execution_count": 1,
   "id": "f1b93eff-1eb7-4c6e-8e64-4677d4cb70f4",
   "metadata": {},
   "outputs": [],
   "source": [
    "import pandas as pd"
   ]
  },
  {
   "cell_type": "markdown",
   "id": "792a05b5-436c-4414-8b5a-eac28a6ff369",
   "metadata": {},
   "source": [
    "<h4>Readinig table from website using pandas.</h4>"
   ]
  },
  {
   "cell_type": "code",
   "execution_count": 7,
   "id": "22744daf-5ad8-4c62-a956-2007dcdb17f6",
   "metadata": {},
   "outputs": [
    {
     "name": "stdout",
     "output_type": "stream",
     "text": [
      "Number of tables found: 3\n"
     ]
    },
    {
     "data": {
      "text/plain": [
       "[                                Location  Population % of world         Date  \\\n",
       " 0                                  World  8232000000       100%  13 Jun 2025   \n",
       " 1                                  India  1417492000      17.3%   1 Jul 2025   \n",
       " 2                                  China  1408280000      17.2%  31 Dec 2024   \n",
       " 3                          United States   340110988       4.2%   1 Jul 2024   \n",
       " 4                              Indonesia   284438782       3.5%  30 Jun 2025   \n",
       " ..                                   ...         ...        ...          ...   \n",
       " 237                   Niue (New Zealand)        1681         0%  11 Nov 2022   \n",
       " 238                Tokelau (New Zealand)        1647         0%   1 Jan 2019   \n",
       " 239                         Vatican City         882         0%  31 Dec 2024   \n",
       " 240  Cocos (Keeling) Islands (Australia)         593         0%  30 Jun 2020   \n",
       " 241                Pitcairn Islands (UK)          35         0%   1 Jul 2023   \n",
       " \n",
       "     Source (official or from the United Nations) Notes  \n",
       " 0                            UN projection[1][3]   NaN  \n",
       " 1                         Official projection[4]   [b]  \n",
       " 2                           Official estimate[5]   [c]  \n",
       " 3                           Official estimate[6]   [d]  \n",
       " 4                  National annual projection[7]   NaN  \n",
       " ..                                           ...   ...  \n",
       " 237                             2022 Census[252]   NaN  \n",
       " 238                             2019 Census[253]   NaN  \n",
       " 239                         Official figure[254]  [ah]  \n",
       " 240                             2021 Census[255]   NaN  \n",
       " 241                       Official estimate[256]   NaN  \n",
       " \n",
       " [242 rows x 6 columns],\n",
       "      vteLists of countries by population statistics  \\\n",
       " 0                                            Global   \n",
       " 1                             Continents/subregions   \n",
       " 2                                  Intercontinental   \n",
       " 3                                Cities/urban areas   \n",
       " 4                                   Past and future   \n",
       " 5                                Population density   \n",
       " 6                                 Growth indicators   \n",
       " 7                                   Life expectancy   \n",
       " 8                                Other demographics   \n",
       " 9                                            Health   \n",
       " 10                         Education and innovation   \n",
       " 11                                         Economic   \n",
       " 12  List of international rankings Lists by country   \n",
       " \n",
       "      vteLists of countries by population statistics.1  \n",
       " 0   Current population United Nations Demographics...  \n",
       " 1   Africa Antarctica Asia Europe North America Ca...  \n",
       " 2   Americas Arab world Commonwealth of Nations Eu...  \n",
       " 3   World cities National capitals Megacities Mega...  \n",
       " 4   Past and future population Estimates of histor...  \n",
       " 5   Current density Past and future population den...  \n",
       " 6   Population growth rate Natural increase Net re...  \n",
       " 7   World Africa Asia Europe North America Oceania...  \n",
       " 8   Age at childbearing Age at first marriage Age ...  \n",
       " 9   Antidepressant consumption Antiviral medicatio...  \n",
       " 10  Bloomberg Innovation Index Education Index Glo...  \n",
       " 11  Access to financial services Development aid d...  \n",
       " 12    List of international rankings Lists by country  ,\n",
       "                                             vteWorld  \\\n",
       " 0  AfghanistanAlbaniaAlgeriaAndorraAngolaAntigua ...   \n",
       " \n",
       "                                           vteWorld.1  \n",
       " 0  AfghanistanAlbaniaAlgeriaAndorraAngolaAntigua ...  ]"
      ]
     },
     "execution_count": 7,
     "metadata": {},
     "output_type": "execute_result"
    }
   ],
   "source": [
    "url=\"https://en.wikipedia.org/wiki/List_of_countries_and_dependencies_by_population\"\n",
    "tables=pd.read_html(url)\n",
    "print(f\"Number of tables found: {len(tables)}\")\n",
    "tables[0].head()"
   ]
  },
  {
   "cell_type": "code",
   "execution_count": 8,
   "id": "b0b9a0d3-6593-4911-bb89-967f1186f288",
   "metadata": {},
   "outputs": [],
   "source": [
    "import requests"
   ]
  },
  {
   "cell_type": "code",
   "execution_count": 14,
   "id": "8e94ac39-889e-4316-9f15-18136dcc7b59",
   "metadata": {},
   "outputs": [
    {
     "name": "stdout",
     "output_type": "stream",
     "text": [
      "Tables in the web page are: 5\n"
     ]
    },
    {
     "name": "stderr",
     "output_type": "stream",
     "text": [
      "C:\\Users\\hp\\AppData\\Local\\Temp\\ipykernel_10624\\3191779321.py:5: FutureWarning: Passing literal html to 'read_html' is deprecated and will be removed in a future version. To read from a literal string, wrap it in a 'StringIO' object.\n",
      "  tables=pd.read_html(response.text)\n"
     ]
    },
    {
     "data": {
      "text/html": [
       "<div>\n",
       "<style scoped>\n",
       "    .dataframe tbody tr th:only-of-type {\n",
       "        vertical-align: middle;\n",
       "    }\n",
       "\n",
       "    .dataframe tbody tr th {\n",
       "        vertical-align: top;\n",
       "    }\n",
       "\n",
       "    .dataframe thead th {\n",
       "        text-align: right;\n",
       "    }\n",
       "</style>\n",
       "<table border=\"1\" class=\"dataframe\">\n",
       "  <thead>\n",
       "    <tr style=\"text-align: right;\">\n",
       "      <th></th>\n",
       "      <th>Year (July 1)</th>\n",
       "      <th>Population</th>\n",
       "      <th>Yearly % Change</th>\n",
       "      <th>Yearly Change</th>\n",
       "      <th>Median Age</th>\n",
       "      <th>Fertility Rate</th>\n",
       "      <th>Density (P/KmÂ²)</th>\n",
       "    </tr>\n",
       "  </thead>\n",
       "  <tbody>\n",
       "    <tr>\n",
       "      <th>0</th>\n",
       "      <td>2025</td>\n",
       "      <td>8231613070</td>\n",
       "      <td>0.85%</td>\n",
       "      <td>69640498</td>\n",
       "      <td>30.9</td>\n",
       "      <td>2.24</td>\n",
       "      <td>55</td>\n",
       "    </tr>\n",
       "    <tr>\n",
       "      <th>1</th>\n",
       "      <td>2024</td>\n",
       "      <td>8161972572</td>\n",
       "      <td>0.87%</td>\n",
       "      <td>70237642</td>\n",
       "      <td>30.6</td>\n",
       "      <td>2.25</td>\n",
       "      <td>55</td>\n",
       "    </tr>\n",
       "    <tr>\n",
       "      <th>2</th>\n",
       "      <td>2023</td>\n",
       "      <td>8091734930</td>\n",
       "      <td>0.88%</td>\n",
       "      <td>70327738</td>\n",
       "      <td>30.4</td>\n",
       "      <td>2.25</td>\n",
       "      <td>54</td>\n",
       "    </tr>\n",
       "    <tr>\n",
       "      <th>3</th>\n",
       "      <td>2022</td>\n",
       "      <td>8021407192</td>\n",
       "      <td>0.84%</td>\n",
       "      <td>66958801</td>\n",
       "      <td>30.1</td>\n",
       "      <td>2.27</td>\n",
       "      <td>54</td>\n",
       "    </tr>\n",
       "    <tr>\n",
       "      <th>4</th>\n",
       "      <td>2021</td>\n",
       "      <td>7954448391</td>\n",
       "      <td>0.86%</td>\n",
       "      <td>67447099</td>\n",
       "      <td>29.8</td>\n",
       "      <td>2.29</td>\n",
       "      <td>53</td>\n",
       "    </tr>\n",
       "  </tbody>\n",
       "</table>\n",
       "</div>"
      ],
      "text/plain": [
       "   Year (July 1)  Population Yearly % Change  Yearly Change  Median Age  \\\n",
       "0           2025  8231613070           0.85%       69640498        30.9   \n",
       "1           2024  8161972572           0.87%       70237642        30.6   \n",
       "2           2023  8091734930           0.88%       70327738        30.4   \n",
       "3           2022  8021407192           0.84%       66958801        30.1   \n",
       "4           2021  7954448391           0.86%       67447099        29.8   \n",
       "\n",
       "   Fertility Rate  Density (P/KmÂ²)  \n",
       "0            2.24                55  \n",
       "1            2.25                55  \n",
       "2            2.25                54  \n",
       "3            2.27                54  \n",
       "4            2.29                53  "
      ]
     },
     "execution_count": 14,
     "metadata": {},
     "output_type": "execute_result"
    }
   ],
   "source": [
    "URL=\"https://www.worldometers.info/world-population\"\n",
    "headers={\"User-Agent\": \"Mozilla/5.0 (Windows NT 10.0; x64) AppleWebkit/537.36 (KHTML, like Gecko) Chrome/91.0.4472.124 Safari/537.36 \"}\n",
    "response=requests.get(URL,headers=headers)\n",
    "response.raise_for_status()\n",
    "tables=pd.read_html(response.text)\n",
    "print(f\"Tables in the web page are: {len(tables)}\")\n",
    "tables[0].head()\"to_csv(\"World_Population.csv\", index=False)\""
   ]
  },
  {
   "cell_type": "code",
   "execution_count": null,
   "id": "2223ab49-000f-493d-9a8e-2e301f138460",
   "metadata": {},
   "outputs": [],
   "source": []
  }
 ],
 "metadata": {
  "kernelspec": {
   "display_name": "Python [conda env:base] *",
   "language": "python",
   "name": "conda-base-py"
  },
  "language_info": {
   "codemirror_mode": {
    "name": "ipython",
    "version": 3
   },
   "file_extension": ".py",
   "mimetype": "text/x-python",
   "name": "python",
   "nbconvert_exporter": "python",
   "pygments_lexer": "ipython3",
   "version": "3.13.5"
  }
 },
 "nbformat": 4,
 "nbformat_minor": 5
}
