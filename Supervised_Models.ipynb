{
 "cells": [
  {
   "cell_type": "code",
   "execution_count": 1,
   "id": "0375a41f-b84c-4a06-8be1-c20a19678499",
   "metadata": {},
   "outputs": [],
   "source": [
    "import pandas as pd\n",
    "import numpy as np\n",
    "import matplotlib.pyplot as plt\n",
    "import seaborn as sns\n",
    "import warnings \n",
    "warnings.filterwarnings('ignore')"
   ]
  },
  {
   "cell_type": "code",
   "execution_count": 2,
   "id": "59251708-572f-4946-9f64-0b59d2c378e2",
   "metadata": {},
   "outputs": [],
   "source": [
    "file_path = r\"E:\\Supervised learning model\\household_power_consumption.txt\"  # replace with your local path\n",
    "\n",
    "# Read the large file efficiently\n",
    "df = pd.read_csv(\n",
    "    file_path,\n",
    "    sep=';',\n",
    "    low_memory=False,\n",
    "    parse_dates={'DateTime': ['Date', 'Time']},\n",
    "    na_values='?'\n",
    ")"
   ]
  },
  {
   "cell_type": "code",
   "execution_count": 3,
   "id": "ae7a22bd-bfa7-4bfb-941b-084df92db199",
   "metadata": {},
   "outputs": [],
   "source": [
    "# Drop missing values\n",
    "df = df.dropna()"
   ]
  },
  {
   "cell_type": "code",
   "execution_count": 4,
   "id": "1cc31fba-045a-4ac0-af89-adafc2cbf057",
   "metadata": {},
   "outputs": [
    {
     "name": "stdout",
     "output_type": "stream",
     "text": [
      "Dataset loaded: (2049280, 8)\n",
      "             DateTime  Global_active_power  Global_reactive_power  Voltage  \\\n",
      "0 2006-12-16 17:24:00                4.216                  0.418   234.84   \n",
      "1 2006-12-16 17:25:00                5.360                  0.436   233.63   \n",
      "2 2006-12-16 17:26:00                5.374                  0.498   233.29   \n",
      "3 2006-12-16 17:27:00                5.388                  0.502   233.74   \n",
      "4 2006-12-16 17:28:00                3.666                  0.528   235.68   \n",
      "\n",
      "   Global_intensity  Sub_metering_1  Sub_metering_2  Sub_metering_3  \n",
      "0              18.4             0.0             1.0            17.0  \n",
      "1              23.0             0.0             1.0            16.0  \n",
      "2              23.0             0.0             2.0            17.0  \n",
      "3              23.0             0.0             1.0            17.0  \n",
      "4              15.8             0.0             1.0            17.0  \n"
     ]
    }
   ],
   "source": [
    "cols = [\"Global_active_power\", \"Global_reactive_power\", \"Voltage\", \n",
    "        \"Global_intensity\", \"Sub_metering_1\", \"Sub_metering_2\", \"Sub_metering_3\"]\n",
    "df[cols] = df[cols].apply(pd.to_numeric)\n",
    "\n",
    "print(\"Dataset loaded:\", df.shape)\n",
    "print(df.head())"
   ]
  },
  {
   "cell_type": "code",
   "execution_count": 5,
   "id": "3ad4bb3d-bc0e-4b6e-9640-78c029bc626e",
   "metadata": {},
   "outputs": [
    {
     "name": "stdout",
     "output_type": "stream",
     "text": [
      "<class 'pandas.core.frame.DataFrame'>\n",
      "Index: 2049280 entries, 0 to 2075258\n",
      "Data columns (total 8 columns):\n",
      " #   Column                 Dtype         \n",
      "---  ------                 -----         \n",
      " 0   DateTime               datetime64[ns]\n",
      " 1   Global_active_power    float64       \n",
      " 2   Global_reactive_power  float64       \n",
      " 3   Voltage                float64       \n",
      " 4   Global_intensity       float64       \n",
      " 5   Sub_metering_1         float64       \n",
      " 6   Sub_metering_2         float64       \n",
      " 7   Sub_metering_3         float64       \n",
      "dtypes: datetime64[ns](1), float64(7)\n",
      "memory usage: 140.7 MB\n"
     ]
    }
   ],
   "source": [
    "df.info()"
   ]
  },
  {
   "cell_type": "code",
   "execution_count": 6,
   "id": "a36576a0-38bb-4885-bda6-454b0c3e9c27",
   "metadata": {},
   "outputs": [
    {
     "name": "stdout",
     "output_type": "stream",
     "text": [
      "Daily aggregated data: (1433, 7)\n",
      "            Global_active_power  Global_reactive_power     Voltage  \\\n",
      "DateTime                                                             \n",
      "2006-12-16             3.053475               0.088187  236.243763   \n",
      "2006-12-17             2.354486               0.156949  240.087028   \n",
      "2006-12-18             1.530435               0.112356  241.231694   \n",
      "2006-12-19             1.157079               0.104821  241.999313   \n",
      "2006-12-20             1.545658               0.111804  242.308062   \n",
      "\n",
      "            Global_intensity  Sub_metering_1  Sub_metering_2  Sub_metering_3  \n",
      "DateTime                                                                      \n",
      "2006-12-16         13.082828        0.000000        1.378788       12.439394  \n",
      "2006-12-17          9.999028        1.411806        2.907639        9.264583  \n",
      "2006-12-18          6.421667        0.738194        1.820139        9.734722  \n",
      "2006-12-19          4.926389        0.582639        5.279167        4.303472  \n",
      "2006-12-20          6.467361        0.000000        1.838889        9.765972  \n"
     ]
    }
   ],
   "source": [
    "daily_df = df.resample('D', on='DateTime').mean().dropna()\n",
    "print(\"Daily aggregated data:\", daily_df.shape)\n",
    "print(daily_df.head())"
   ]
  },
  {
   "cell_type": "code",
   "execution_count": 7,
   "id": "ed8c47dd-5c50-46ba-b03d-27e4944604b4",
   "metadata": {},
   "outputs": [],
   "source": [
    "# Regression target: next day's consumption\n",
    "daily_df[\"next_day_consumption\"] = daily_df[\"Global_active_power\"].shift(-1)\n",
    "\n",
    "# Classification target: energy plan based on usage\n",
    "daily_df[\"energy_plan\"] = pd.cut(\n",
    "    daily_df[\"Global_active_power\"],\n",
    "    bins=[0, 1, 3, 6],\n",
    "    labels=[\"Plan A\", \"Plan B\", \"Plan C\"]\n",
    ")\n",
    "\n",
    "# Drop rows with NaN targets\n",
    "daily_df = daily_df.dropna()\n"
   ]
  },
  {
   "cell_type": "code",
   "execution_count": 8,
   "id": "cc157ee6-44e6-470b-838f-b22590aaf8a1",
   "metadata": {},
   "outputs": [
    {
     "name": "stdout",
     "output_type": "stream",
     "text": [
      "Regression RMSE: 0.32430039617362305\n",
      "Classification Accuracy: 0.9965156794425087\n",
      "              precision    recall  f1-score   support\n",
      "\n",
      "      Plan A       1.00      0.99      1.00       116\n",
      "      Plan B       0.99      1.00      1.00       171\n",
      "\n",
      "    accuracy                           1.00       287\n",
      "   macro avg       1.00      1.00      1.00       287\n",
      "weighted avg       1.00      1.00      1.00       287\n",
      "\n",
      "Predicted next-day consumption: 1.87 kWh\n",
      "Recommended Plan: Plan B\n"
     ]
    }
   ],
   "source": [
    "from sklearn.model_selection import train_test_split\n",
    "from sklearn.ensemble import RandomForestRegressor, RandomForestClassifier\n",
    "from sklearn.metrics import mean_squared_error, accuracy_score, classification_report\n",
    "import numpy as np\n",
    "import pickle\n",
    "\n",
    "# Features\n",
    "X = daily_df[[\"Global_reactive_power\", \"Voltage\", \"Global_intensity\",\n",
    "              \"Sub_metering_1\", \"Sub_metering_2\", \"Sub_metering_3\"]]\n",
    "\n",
    "# Regression\n",
    "y_reg = daily_df[\"next_day_consumption\"]\n",
    "X_train_r, X_test_r, y_train_r, y_test_r = train_test_split(X, y_reg, test_size=0.2, random_state=42)\n",
    "regressor = RandomForestRegressor(n_estimators=100, random_state=42)\n",
    "regressor.fit(X_train_r, y_train_r)\n",
    "y_pred_r = regressor.predict(X_test_r)\n",
    "print(\"Regression RMSE:\", np.sqrt(mean_squared_error(y_test_r, y_pred_r)))\n",
    "\n",
    "# Classification\n",
    "y_clf = daily_df[\"energy_plan\"]\n",
    "X_train_c, X_test_c, y_train_c, y_test_c = train_test_split(X, y_clf, test_size=0.2, random_state=42)\n",
    "classifier = RandomForestClassifier(n_estimators=100, random_state=42)\n",
    "classifier.fit(X_train_c, y_train_c)\n",
    "y_pred_c = classifier.predict(X_test_c)\n",
    "print(\"Classification Accuracy:\", accuracy_score(y_test_c, y_pred_c))\n",
    "print(classification_report(y_test_c, y_pred_c))\n",
    "\n",
    "# Example prediction\n",
    "sample = np.array([[0.3, 240, 12, 1.2, 0.5, 0.3]])\n",
    "future_use = regressor.predict(sample)[0]\n",
    "recommended_plan = classifier.predict(sample)[0]\n",
    "print(f\"Predicted next-day consumption: {future_use:.2f} kWh\")\n",
    "print(f\"Recommended Plan: {recommended_plan}\")\n",
    "\n",
    "# Save both models together as one dictionary\n",
    "model = {\n",
    "    \"regressor\": regressor,\n",
    "    \"classifier\": classifier\n",
    "}\n",
    "\n",
    "with open(\"churn_model.pkl\", \"wb\") as f:\n",
    "    pickle.dump(model, f)\n"
   ]
  },
  {
   "cell_type": "code",
   "execution_count": null,
   "id": "470d2b9c",
   "metadata": {},
   "outputs": [],
   "source": []
  }
 ],
 "metadata": {
  "kernelspec": {
   "display_name": "Python 3",
   "language": "python",
   "name": "python3"
  },
  "language_info": {
   "codemirror_mode": {
    "name": "ipython",
    "version": 3
   },
   "file_extension": ".py",
   "mimetype": "text/x-python",
   "name": "python",
   "nbconvert_exporter": "python",
   "pygments_lexer": "ipython3",
   "version": "3.13.7"
  }
 },
 "nbformat": 4,
 "nbformat_minor": 5
}
