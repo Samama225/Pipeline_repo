{
 "cells": [
  {
   "cell_type": "code",
   "execution_count": 1,
   "id": "938d99e1-db9f-4004-a0e9-ab22bc552075",
   "metadata": {},
   "outputs": [],
   "source": [
    "import pandas as pd\n",
    "import numpy as np\n",
    "from sklearn.preprocessing import StandardScaler\n",
    "from sklearn.cluster import KMeans\n",
    "from sklearn.metrics import silhouette_score\n",
    "import plotly.express as px\n",
    "import plotly.graph_objects as go\n",
    "import dash\n",
    "from dash import dcc, html"
   ]
  },
  {
   "cell_type": "code",
   "execution_count": 2,
   "id": "f7dd0811-5233-4c0d-b963-ebceadb25041",
   "metadata": {},
   "outputs": [],
   "source": [
    "df = pd.read_csv(r\"E:\\Unsupervised_model\\train.csv\")"
   ]
  },
  {
   "cell_type": "code",
   "execution_count": 3,
   "id": "e528f041-c1ad-43d0-8612-c7c25f8fa08f",
   "metadata": {},
   "outputs": [
    {
     "name": "stdout",
     "output_type": "stream",
     "text": [
      "          id  vendor_id      pickup_datetime     dropoff_datetime  \\\n",
      "0  id2875421          2  2016-03-14 17:24:55  2016-03-14 17:32:30   \n",
      "1  id2377394          1  2016-06-12 00:43:35  2016-06-12 00:54:38   \n",
      "2  id3858529          2  2016-01-19 11:35:24  2016-01-19 12:10:48   \n",
      "3  id3504673          2  2016-04-06 19:32:31  2016-04-06 19:39:40   \n",
      "4  id2181028          2  2016-03-26 13:30:55  2016-03-26 13:38:10   \n",
      "\n",
      "   passenger_count  pickup_longitude  pickup_latitude  dropoff_longitude  \\\n",
      "0                1        -73.982155        40.767937         -73.964630   \n",
      "1                1        -73.980415        40.738564         -73.999481   \n",
      "2                1        -73.979027        40.763939         -74.005333   \n",
      "3                1        -74.010040        40.719971         -74.012268   \n",
      "4                1        -73.973053        40.793209         -73.972923   \n",
      "\n",
      "   dropoff_latitude store_and_fwd_flag  trip_duration  \n",
      "0         40.765602                  N            455  \n",
      "1         40.731152                  N            663  \n",
      "2         40.710087                  N           2124  \n",
      "3         40.706718                  N            429  \n",
      "4         40.782520                  N            435  \n"
     ]
    }
   ],
   "source": [
    "print(df.head())"
   ]
  },
  {
   "cell_type": "code",
   "execution_count": 4,
   "id": "a0f7154f-2ae6-40ff-8ca8-82955c1bee93",
   "metadata": {},
   "outputs": [],
   "source": [
    "df['pickup_datetime'] = pd.to_datetime(df['pickup_datetime'])"
   ]
  },
  {
   "cell_type": "code",
   "execution_count": 5,
   "id": "ed550937-96dd-4626-a512-86858176a7a4",
   "metadata": {},
   "outputs": [],
   "source": [
    "df['hour'] = df['pickup_datetime'].dt.hour\n",
    "df['day'] = df['pickup_datetime'].dt.dayofweek\n",
    "df['month'] = df['pickup_datetime'].dt.month"
   ]
  },
  {
   "cell_type": "code",
   "execution_count": 6,
   "id": "f04c4c79-77a2-4d41-8107-c5f37d1a6288",
   "metadata": {},
   "outputs": [],
   "source": [
    "df['store_and_fwd_flag'] = df['store_and_fwd_flag'].astype(str).str.strip().str.upper().map({'Y':1, 'N':0}).astype(int)"
   ]
  },
  {
   "cell_type": "code",
   "execution_count": 7,
   "id": "918ced2c-a8c0-447c-9a61-0b13c1ad7190",
   "metadata": {},
   "outputs": [],
   "source": [
    "features = ['pickup_longitude','pickup_latitude',\n",
    "            'dropoff_longitude','dropoff_latitude',\n",
    "            'trip_duration','passenger_count',\n",
    "            'vendor_id','store_and_fwd_flag',\n",
    "            'hour','day','month']"
   ]
  },
  {
   "cell_type": "code",
   "execution_count": 8,
   "id": "503652ed-6ab2-465b-bbd7-8292fd0298d4",
   "metadata": {},
   "outputs": [],
   "source": [
    "X = df[features].dropna()"
   ]
  },
  {
   "cell_type": "code",
   "execution_count": 9,
   "id": "10d767b7-f6d6-41c3-9055-ca895edb57ec",
   "metadata": {},
   "outputs": [],
   "source": [
    "scaler = StandardScaler()\n",
    "X_scaled = scaler.fit_transform(X)"
   ]
  },
  {
   "cell_type": "code",
   "execution_count": null,
   "id": "531a74fb-f5f0-45f5-8b0a-1c96f66768ba",
   "metadata": {},
   "outputs": [],
   "source": [
    "sil_scores = []\n",
    "k_range = range(2, 10)\n",
    "for k in k_range:\n",
    "    kmeans = KMeans(n_clusters=k, random_state=42)\n",
    "    labels = kmeans.fit_predict(X_scaled)\n",
    "    sil_scores.append(silhouette_score(X_scaled, labels))\n",
    "\n",
    "best_k = k_range[np.argmax(sil_scores)]\n",
    "print(\"Optimal number of clusters:\", best_k)"
   ]
  },
  {
   "cell_type": "code",
   "execution_count": null,
   "id": "7277ee6b-6583-433d-bf44-0531122ba5bf",
   "metadata": {},
   "outputs": [],
   "source": [
    "kmeans = KMeans(n_clusters=best_k, random_state=42)\n",
    "df['cluster'] = kmeans.fit_predict(X_scaled)"
   ]
  },
  {
   "cell_type": "code",
   "execution_count": null,
   "id": "8cda2704-08ef-47d2-95d6-6838ec2c1da4",
   "metadata": {},
   "outputs": [],
   "source": [
    "cluster_summary = df.groupby('cluster')[['trip_duration','passenger_count','fare_amount','hour','day','month']].mean().reset_index()"
   ]
  },
  {
   "cell_type": "code",
   "execution_count": null,
   "id": "f856588e-04f0-42ec-b2e9-0b1489059afb",
   "metadata": {},
   "outputs": [],
   "source": [
    "ddf.to_csv(\"r\"E:\\New folder\\ML_Projects\\train.csv\"\")"
   ]
  },
  {
   "cell_type": "code",
   "execution_count": null,
   "id": "8f548faa-2729-46fd-84be-8fd02a1626b8",
   "metadata": {},
   "outputs": [],
   "source": []
  }
 ],
 "metadata": {
  "kernelspec": {
   "display_name": "Python [conda env:base] *",
   "language": "python",
   "name": "conda-base-py"
  },
  "language_info": {
   "codemirror_mode": {
    "name": "ipython",
    "version": 3
   },
   "file_extension": ".py",
   "mimetype": "text/x-python",
   "name": "python",
   "nbconvert_exporter": "python",
   "pygments_lexer": "ipython3",
   "version": "3.13.5"
  }
 },
 "nbformat": 4,
 "nbformat_minor": 5
}
